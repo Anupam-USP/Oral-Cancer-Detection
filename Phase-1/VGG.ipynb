{
 "cells": [
  {
   "cell_type": "code",
   "execution_count": 15,
   "id": "274d038a",
   "metadata": {},
   "outputs": [],
   "source": [
    "from PIL import Image\n",
    "import os\n",
    "import glob\n",
    "from keras.preprocessing import image\n",
    "import keras.preprocessing\n",
    "import tensorflow as tf"
   ]
  },
  {
   "cell_type": "code",
   "execution_count": 16,
   "id": "3ba8ad8e",
   "metadata": {},
   "outputs": [],
   "source": [
    "train_gen = image.ImageDataGenerator(\n",
    "    rescale = 1/255.0,\n",
    "    shear_range = 0.2,\n",
    "    zoom_range = 0.2,\n",
    "    horizontal_flip = True,\n",
    ")\n",
    "\n",
    "test_gen = image.ImageDataGenerator(rescale=1/255.0)"
   ]
  },
  {
   "cell_type": "code",
   "execution_count": 17,
   "id": "931dd163",
   "metadata": {},
   "outputs": [
    {
     "name": "stdout",
     "output_type": "stream",
     "text": [
      "Found 139 images belonging to 2 classes.\n"
     ]
    }
   ],
   "source": [
    "train_generator = train_gen.flow_from_directory(\n",
    "    r\"D:\\\\Github\\\\Oral-cancer\\\\Phase 1\\\\Tongue\\\\Train\\\\\",\n",
    "    target_size = (224,224),\n",
    "    batch_size = 32,\n",
    "    class_mode = 'binary')"
   ]
  },
  {
   "cell_type": "code",
   "execution_count": 18,
   "id": "598d5b2b",
   "metadata": {},
   "outputs": [
    {
     "data": {
      "text/plain": [
       "{'Cancer': 0, 'Non Cancer': 1}"
      ]
     },
     "execution_count": 18,
     "metadata": {},
     "output_type": "execute_result"
    }
   ],
   "source": [
    "train_generator.class_indices"
   ]
  },
  {
   "cell_type": "code",
   "execution_count": 19,
   "id": "d847fe06",
   "metadata": {},
   "outputs": [
    {
     "name": "stdout",
     "output_type": "stream",
     "text": [
      "Found 8 images belonging to 2 classes.\n"
     ]
    }
   ],
   "source": [
    "val_generator = test_gen.flow_from_directory(\n",
    "    r\"D:\\\\Github\\\\Oral-cancer\\\\Phase 1\\\\Tongue\\\\Val\\\\\",\n",
    "    target_size = (224,224),\n",
    "    batch_size = 32,\n",
    "    class_mode = 'binary')"
   ]
  },
  {
   "cell_type": "code",
   "execution_count": 20,
   "id": "b980ec63",
   "metadata": {},
   "outputs": [],
   "source": [
    "# Create the VGG16 models\n",
    "\n",
    "from keras.applications.vgg16 import VGG16\n",
    "import keras\n",
    "from keras.layers import *\n",
    "from keras.models import Model \n",
    "import matplotlib.pyplot as plt"
   ]
  },
  {
   "cell_type": "code",
   "execution_count": 39,
   "id": "d6a45ab5",
   "metadata": {},
   "outputs": [],
   "source": [
    "model = VGG16(include_top=False, weights='imagenet', input_shape=(224,224,3))\n",
    "for layer in model.layers:\n",
    "    layer.trainable=False"
   ]
  },
  {
   "cell_type": "code",
   "execution_count": 40,
   "id": "ee048f35",
   "metadata": {},
   "outputs": [
    {
     "name": "stdout",
     "output_type": "stream",
     "text": [
      "Model: \"model_7\"\n",
      "_________________________________________________________________\n",
      " Layer (type)                Output Shape              Param #   \n",
      "=================================================================\n",
      " input_7 (InputLayer)        [(None, 224, 224, 3)]     0         \n",
      "                                                                 \n",
      " block1_conv1 (Conv2D)       (None, 224, 224, 64)      1792      \n",
      "                                                                 \n",
      " block1_conv2 (Conv2D)       (None, 224, 224, 64)      36928     \n",
      "                                                                 \n",
      " block1_pool (MaxPooling2D)  (None, 112, 112, 64)      0         \n",
      "                                                                 \n",
      " block2_conv1 (Conv2D)       (None, 112, 112, 128)     73856     \n",
      "                                                                 \n",
      " block2_conv2 (Conv2D)       (None, 112, 112, 128)     147584    \n",
      "                                                                 \n",
      " block2_pool (MaxPooling2D)  (None, 56, 56, 128)       0         \n",
      "                                                                 \n",
      " block3_conv1 (Conv2D)       (None, 56, 56, 256)       295168    \n",
      "                                                                 \n",
      " block3_conv2 (Conv2D)       (None, 56, 56, 256)       590080    \n",
      "                                                                 \n",
      " block3_conv3 (Conv2D)       (None, 56, 56, 256)       590080    \n",
      "                                                                 \n",
      " block3_pool (MaxPooling2D)  (None, 28, 28, 256)       0         \n",
      "                                                                 \n",
      " block4_conv1 (Conv2D)       (None, 28, 28, 512)       1180160   \n",
      "                                                                 \n",
      " block4_conv2 (Conv2D)       (None, 28, 28, 512)       2359808   \n",
      "                                                                 \n",
      " block4_conv3 (Conv2D)       (None, 28, 28, 512)       2359808   \n",
      "                                                                 \n",
      " block4_pool (MaxPooling2D)  (None, 14, 14, 512)       0         \n",
      "                                                                 \n",
      " block5_conv1 (Conv2D)       (None, 14, 14, 512)       2359808   \n",
      "                                                                 \n",
      " block5_conv2 (Conv2D)       (None, 14, 14, 512)       2359808   \n",
      "                                                                 \n",
      " block5_conv3 (Conv2D)       (None, 14, 14, 512)       2359808   \n",
      "                                                                 \n",
      " block5_pool (MaxPooling2D)  (None, 7, 7, 512)         0         \n",
      "                                                                 \n",
      " global_average_pooling2d_7   (None, 512)              0         \n",
      " (GlobalAveragePooling2D)                                        \n",
      "                                                                 \n",
      " dense_14 (Dense)            (None, 64)                32832     \n",
      "                                                                 \n",
      " dropout_7 (Dropout)         (None, 64)                0         \n",
      "                                                                 \n",
      " dense_15 (Dense)            (None, 1)                 65        \n",
      "                                                                 \n",
      "=================================================================\n",
      "Total params: 14,747,585\n",
      "Trainable params: 32,897\n",
      "Non-trainable params: 14,714,688\n",
      "_________________________________________________________________\n"
     ]
    }
   ],
   "source": [
    "av1 = GlobalAveragePooling2D()(model.output)\n",
    "fc1 = Dense(64,activation='relu')(av1)\n",
    "d1 = Dropout(0.6)(fc1)\n",
    "fc2 = Dense(1,activation='softmax')(d1)\n",
    "model_new = Model(model.input,fc2)\n",
    "model_new.summary()"
   ]
  },
  {
   "cell_type": "code",
   "execution_count": 41,
   "id": "975c2602",
   "metadata": {},
   "outputs": [],
   "source": [
    "adam = tf.keras.optimizers.Adam(learning_rate=0.001)\n",
    "model_new.compile(loss='binary_crossentropy',optimizer=adam,metrics=['accuracy'])"
   ]
  },
  {
   "cell_type": "code",
   "execution_count": 44,
   "id": "feaf4763",
   "metadata": {},
   "outputs": [
    {
     "name": "stdout",
     "output_type": "stream",
     "text": [
      "Epoch 1/10\n"
     ]
    },
    {
     "name": "stderr",
     "output_type": "stream",
     "text": [
      "C:\\Users\\anupa\\anaconda3\\envs\\Oral\\lib\\site-packages\\PIL\\Image.py:945: UserWarning: Palette images with Transparency expressed in bytes should be converted to RGBA images\n",
      "  warnings.warn(\n"
     ]
    },
    {
     "name": "stdout",
     "output_type": "stream",
     "text": [
      "4/4 [==============================] - 4s 820ms/step - loss: 0.5395 - accuracy: 0.4673 - val_loss: 0.4329 - val_accuracy: 0.6250\n",
      "Epoch 2/10\n",
      "4/4 [==============================] - 4s 987ms/step - loss: 0.4870 - accuracy: 0.4393 - val_loss: 0.3952 - val_accuracy: 0.6250\n",
      "Epoch 3/10\n",
      "4/4 [==============================] - 4s 757ms/step - loss: 0.5146 - accuracy: 0.4299 - val_loss: 0.3771 - val_accuracy: 0.6250\n",
      "Epoch 4/10\n",
      "4/4 [==============================] - 4s 801ms/step - loss: 0.5490 - accuracy: 0.4206 - val_loss: 0.3866 - val_accuracy: 0.6250\n",
      "Epoch 5/10\n",
      "4/4 [==============================] - 3s 913ms/step - loss: 0.4555 - accuracy: 0.4393 - val_loss: 0.3937 - val_accuracy: 0.6250\n",
      "Epoch 6/10\n",
      "4/4 [==============================] - 4s 907ms/step - loss: 0.4801 - accuracy: 0.4673 - val_loss: 0.3849 - val_accuracy: 0.6250\n",
      "Epoch 7/10\n",
      "4/4 [==============================] - 4s 744ms/step - loss: 0.4780 - accuracy: 0.4393 - val_loss: 0.3662 - val_accuracy: 0.6250\n",
      "Epoch 8/10\n",
      "4/4 [==============================] - 4s 822ms/step - loss: 0.4737 - accuracy: 0.4486 - val_loss: 0.3472 - val_accuracy: 0.6250\n",
      "Epoch 9/10\n",
      "4/4 [==============================] - 3s 750ms/step - loss: 0.4779 - accuracy: 0.4393 - val_loss: 0.3152 - val_accuracy: 0.6250\n",
      "Epoch 10/10\n",
      "4/4 [==============================] - 3s 934ms/step - loss: 0.4483 - accuracy: 0.4299 - val_loss: 0.2952 - val_accuracy: 0.6250\n"
     ]
    }
   ],
   "source": [
    "hist = model_new.fit(\n",
    "    train_generator,\n",
    "    steps_per_epoch = 4,\n",
    "    epochs = 10,\n",
    "    batch_size=16,\n",
    "    validation_data = val_generator,\n",
    ")"
   ]
  },
  {
   "cell_type": "code",
   "execution_count": 46,
   "id": "7b025f40",
   "metadata": {},
   "outputs": [
    {
     "data": {
      "image/png": "[encoded data removed]",
      "text/plain": [
       "<Figure size 432x288 with 1 Axes>"
      ]
     },
     "metadata": {
      "needs_background": "light"
     },
     "output_type": "display_data"
    },
    {
     "data": {
      "image/png": "[encoded data removed]",
      "text/plain": [
       "<Figure size 432x288 with 1 Axes>"
      ]
     },
     "metadata": {
      "needs_background": "light"
     },
     "output_type": "display_data"
    }
   ],
   "source": [
    "acc = hist.history['accuracy']\n",
    "val_acc = hist.history['val_accuracy']\n",
    "loss = hist.history['loss']\n",
    "val_loss = hist.history['val_loss']\n",
    "\n",
    "epochs = range(len(acc))\n",
    "\n",
    "plt.plot(epochs, acc, 'r', label='Training accuracy')\n",
    "plt.plot(epochs, val_acc, 'b', label='Validation accuracy')\n",
    "plt.title('Training and validation accuracy')\n",
    "plt.legend(loc=0)\n",
    "plt.figure()\n",
    "plt.plot(epochs, loss, 'r', label='Training loss')\n",
    "plt.plot(epochs, val_loss, 'b', label='Validation loss')\n",
    "plt.legend(loc=0)\n",
    "plt.title('Training and validation accuracy')\n",
    "\n",
    "plt.show()"
   ]
  },
  {
   "cell_type": "code",
   "execution_count": null,
   "id": "143a934f",
   "metadata": {},
   "outputs": [],
   "source": []
  }
 ],
 "metadata": {
  "kernelspec": {
   "display_name": "Python 3 (ipykernel)",
   "language": "python",
   "name": "python3"
  },
  "language_info": {
   "codemirror_mode": {
    "name": "ipython",
    "version": 3
   },
   "file_extension": ".py",
   "mimetype": "text/x-python",
   "name": "python",
   "nbconvert_exporter": "python",
   "pygments_lexer": "ipython3",
   "version": "3.8.0"
  }
 },
 "nbformat": 4,
 "nbformat_minor": 5
}
