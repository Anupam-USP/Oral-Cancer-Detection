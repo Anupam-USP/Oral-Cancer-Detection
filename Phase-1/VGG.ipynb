{
 "cells": [
  {
   "cell_type": "code",
   "execution_count": 1,
   "id": "274d038a",
   "metadata": {},
   "outputs": [],
   "source": [
    "from PIL import Image\n",
    "import os\n",
    "import glob\n",
    "from keras.preprocessing import image\n",
    "import keras.preprocessing\n",
    "import tensorflow as tf"
   ]
  },
  {
   "cell_type": "code",
   "execution_count": 2,
   "id": "3ba8ad8e",
   "metadata": {},
   "outputs": [],
   "source": [
    "train_gen = image.ImageDataGenerator(\n",
    "    rescale = 1/255.0,\n",
    "    shear_range = 0.2,\n",
    "    zoom_range = 0.2,\n",
    "    horizontal_flip = True,\n",
    ")\n",
    "\n",
    "test_gen = image.ImageDataGenerator(rescale=1/255.0)"
   ]
  },
  {
   "cell_type": "code",
   "execution_count": 3,
   "id": "931dd163",
   "metadata": {},
   "outputs": [
    {
     "name": "stdout",
     "output_type": "stream",
     "text": [
      "Found 280 images belonging to 2 classes.\n"
     ]
    }
   ],
   "source": [
    "train_generator = train_gen.flow_from_directory(\n",
    "    r\"D:\\\\Github\\\\Oral-cancer\\\\Phase 1\\\\Tongue\\\\Train\\\\\",\n",
    "    target_size = (224,224),\n",
    "    batch_size = 16,\n",
    "    class_mode = 'binary')"
   ]
  },
  {
   "cell_type": "code",
   "execution_count": 4,
   "id": "598d5b2b",
   "metadata": {},
   "outputs": [
    {
     "data": {
      "text/plain": [
       "{'Cancer': 0, 'Non Cancer': 1}"
      ]
     },
     "execution_count": 4,
     "metadata": {},
     "output_type": "execute_result"
    }
   ],
   "source": [
    "train_generator.class_indices"
   ]
  },
  {
   "cell_type": "code",
   "execution_count": 5,
   "id": "d847fe06",
   "metadata": {},
   "outputs": [
    {
     "name": "stdout",
     "output_type": "stream",
     "text": [
      "Found 94 images belonging to 2 classes.\n"
     ]
    }
   ],
   "source": [
    "val_generator = test_gen.flow_from_directory(\n",
    "    r\"D:\\\\Github\\\\Oral-cancer\\\\Phase 1\\\\Tongue\\\\Val\\\\\",\n",
    "    target_size = (224,224),\n",
    "    batch_size = 16,\n",
    "    class_mode = 'binary')"
   ]
  },
  {
   "cell_type": "code",
   "execution_count": 6,
   "id": "b980ec63",
   "metadata": {},
   "outputs": [],
   "source": [
    "# Create the VGG16 models\n",
    "\n",
    "from keras.applications.vgg16 import VGG16\n",
    "import keras\n",
    "from keras.layers import *\n",
    "from keras.models import Model \n",
    "import matplotlib.pyplot as plt"
   ]
  },
  {
   "cell_type": "code",
   "execution_count": 7,
   "id": "d6a45ab5",
   "metadata": {},
   "outputs": [],
   "source": [
    "model = VGG16(include_top=False, weights='imagenet', input_shape=(224,224,3))\n",
    "for layer in model.layers:\n",
    "    layer.trainable=False"
   ]
  },
  {
   "cell_type": "code",
   "execution_count": 8,
   "id": "ee048f35",
   "metadata": {},
   "outputs": [
    {
     "name": "stdout",
     "output_type": "stream",
     "text": [
      "Model: \"model\"\n",
      "_________________________________________________________________\n",
      " Layer (type)                Output Shape              Param #   \n",
      "=================================================================\n",
      " input_1 (InputLayer)        [(None, 224, 224, 3)]     0         \n",
      "                                                                 \n",
      " block1_conv1 (Conv2D)       (None, 224, 224, 64)      1792      \n",
      "                                                                 \n",
      " block1_conv2 (Conv2D)       (None, 224, 224, 64)      36928     \n",
      "                                                                 \n",
      " block1_pool (MaxPooling2D)  (None, 112, 112, 64)      0         \n",
      "                                                                 \n",
      " block2_conv1 (Conv2D)       (None, 112, 112, 128)     73856     \n",
      "                                                                 \n",
      " block2_conv2 (Conv2D)       (None, 112, 112, 128)     147584    \n",
      "                                                                 \n",
      " block2_pool (MaxPooling2D)  (None, 56, 56, 128)       0         \n",
      "                                                                 \n",
      " block3_conv1 (Conv2D)       (None, 56, 56, 256)       295168    \n",
      "                                                                 \n",
      " block3_conv2 (Conv2D)       (None, 56, 56, 256)       590080    \n",
      "                                                                 \n",
      " block3_conv3 (Conv2D)       (None, 56, 56, 256)       590080    \n",
      "                                                                 \n",
      " block3_pool (MaxPooling2D)  (None, 28, 28, 256)       0         \n",
      "                                                                 \n",
      " block4_conv1 (Conv2D)       (None, 28, 28, 512)       1180160   \n",
      "                                                                 \n",
      " block4_conv2 (Conv2D)       (None, 28, 28, 512)       2359808   \n",
      "                                                                 \n",
      " block4_conv3 (Conv2D)       (None, 28, 28, 512)       2359808   \n",
      "                                                                 \n",
      " block4_pool (MaxPooling2D)  (None, 14, 14, 512)       0         \n",
      "                                                                 \n",
      " block5_conv1 (Conv2D)       (None, 14, 14, 512)       2359808   \n",
      "                                                                 \n",
      " block5_conv2 (Conv2D)       (None, 14, 14, 512)       2359808   \n",
      "                                                                 \n",
      " block5_conv3 (Conv2D)       (None, 14, 14, 512)       2359808   \n",
      "                                                                 \n",
      " block5_pool (MaxPooling2D)  (None, 7, 7, 512)         0         \n",
      "                                                                 \n",
      " flatten (Flatten)           (None, 25088)             0         \n",
      "                                                                 \n",
      " dense (Dense)               (None, 64)                1605696   \n",
      "                                                                 \n",
      " dropout (Dropout)           (None, 64)                0         \n",
      "                                                                 \n",
      " dense_1 (Dense)             (None, 1)                 65        \n",
      "                                                                 \n",
      "=================================================================\n",
      "Total params: 16,320,449\n",
      "Trainable params: 1,605,761\n",
      "Non-trainable params: 14,714,688\n",
      "_________________________________________________________________\n"
     ]
    }
   ],
   "source": [
    "av1 = Flatten()(model.output)\n",
    "fc1 = Dense(64,activation='relu')(av1)\n",
    "d1 = Dropout(0.6)(fc1)\n",
    "fc2 = Dense(1,activation='softmax')(d1)\n",
    "model_new = Model(model.input,fc2)\n",
    "model_new.summary()"
   ]
  },
  {
   "cell_type": "code",
   "execution_count": 9,
   "id": "975c2602",
   "metadata": {},
   "outputs": [],
   "source": [
    "adam = tf.keras.optimizers.Adam(learning_rate=0.001)\n",
    "model_new.compile(loss='binary_crossentropy',optimizer=adam,metrics=['accuracy'])"
   ]
  },
  {
   "cell_type": "code",
   "execution_count": 10,
   "id": "feaf4763",
   "metadata": {},
   "outputs": [
    {
     "name": "stdout",
     "output_type": "stream",
     "text": [
      "Epoch 1/10\n",
      "4/4 [==============================] - 12s 2s/step - loss: 0.9678 - accuracy: 0.6406 - val_loss: 1.0941 - val_accuracy: 0.6702\n",
      "Epoch 2/10\n",
      "4/4 [==============================] - 1s 381ms/step - loss: 0.8303 - accuracy: 0.7344 - val_loss: 0.7476 - val_accuracy: 0.6702\n",
      "Epoch 3/10\n",
      "4/4 [==============================] - 1s 377ms/step - loss: 0.5573 - accuracy: 0.5781 - val_loss: 0.3088 - val_accuracy: 0.6702\n",
      "Epoch 4/10\n",
      "4/4 [==============================] - 1s 369ms/step - loss: 0.3910 - accuracy: 0.7188 - val_loss: 0.5636 - val_accuracy: 0.6702\n",
      "Epoch 5/10\n",
      "4/4 [==============================] - 1s 364ms/step - loss: 0.4646 - accuracy: 0.6875 - val_loss: 0.2880 - val_accuracy: 0.6702\n",
      "Epoch 6/10\n",
      "4/4 [==============================] - 3s 1s/step - loss: 0.3578 - accuracy: 0.7500 - val_loss: 0.3969 - val_accuracy: 0.6702\n",
      "Epoch 7/10\n",
      "4/4 [==============================] - 1s 385ms/step - loss: 0.4240 - accuracy: 0.7321 - val_loss: 0.3385 - val_accuracy: 0.6702\n",
      "Epoch 8/10\n",
      "4/4 [==============================] - 1s 355ms/step - loss: 0.2488 - accuracy: 0.6406 - val_loss: 0.2982 - val_accuracy: 0.6702\n",
      "Epoch 9/10\n",
      "4/4 [==============================] - 1s 374ms/step - loss: 0.2294 - accuracy: 0.5625 - val_loss: 0.3600 - val_accuracy: 0.6702\n",
      "Epoch 10/10\n",
      "4/4 [==============================] - 1s 363ms/step - loss: 0.1686 - accuracy: 0.7188 - val_loss: 0.2841 - val_accuracy: 0.6702\n"
     ]
    }
   ],
   "source": [
    "hist = model_new.fit(\n",
    "    train_generator,\n",
    "    steps_per_epoch = 4,\n",
    "    epochs = 10,\n",
    "    batch_size=8,\n",
    "    validation_data = val_generator,\n",
    ")"
   ]
  },
  {
   "cell_type": "code",
   "execution_count": 19,
   "id": "7b025f40",
   "metadata": {},
   "outputs": [
    {
     "data": {
      "image/png": "[encoded data removed]",
      "text/plain": [
       "<Figure size 432x288 with 1 Axes>"
      ]
     },
     "metadata": {
      "needs_background": "light"
     },
     "output_type": "display_data"
    },
    {
     "data": {
      "image/png": "[encoded data removed]",
      "text/plain": [
       "<Figure size 432x288 with 1 Axes>"
      ]
     },
     "metadata": {
      "needs_background": "light"
     },
     "output_type": "display_data"
    }
   ],
   "source": [
    "acc = hist.history['accuracy']\n",
    "val_acc = hist.history['val_accuracy']\n",
    "loss = hist.history['loss']\n",
    "val_loss = hist.history['val_loss']\n",
    "\n",
    "epochs = range(len(acc))\n",
    "\n",
    "plt.plot(epochs, acc, 'r', label='Training accuracy')\n",
    "plt.plot(epochs, val_acc, 'b', label='Validation accuracy')\n",
    "plt.title('Training and validation accuracy')\n",
    "plt.legend(loc=0)\n",
    "plt.figure()\n",
    "plt.plot(epochs, loss, 'r', label='Training loss')\n",
    "plt.plot(epochs, val_loss, 'b', label='Validation loss')\n",
    "plt.legend(loc=0)\n",
    "plt.title('Training and validation accuracy')\n",
    "\n",
    "plt.show()"
   ]
  },
  {
   "cell_type": "code",
   "execution_count": 20,
   "id": "7f0a49ca",
   "metadata": {},
   "outputs": [
    {
     "name": "stdout",
     "output_type": "stream",
     "text": [
      "Layers that will be used for visualization: \n",
      "['block1_conv1', 'block1_conv2', 'block1_pool', 'block2_conv1', 'block2_conv2', 'block2_pool', 'block3_conv1', 'block3_conv2', 'block3_conv3', 'block3_conv4', 'block3_pool', 'block4_conv1', 'block4_conv2', 'block4_conv3', 'block4_conv4', 'block4_pool', 'block5_conv1', 'block5_conv2', 'block5_conv3', 'block5_conv4', 'block5_pool']\n"
     ]
    }
   ],
   "source": [
    "# Model Interpretability\n",
    "outputs = [layer.output for layer in model.layers[1:22]]\n",
    "\n",
    "# Define a new model that generates the above output\n",
    "vis_model = Model(model.input, outputs)\n",
    "\n",
    "# store the layer names we are interested in\n",
    "layer_names = []\n",
    "for layer in outputs:\n",
    "    layer_names.append(layer.name.split(\"/\")[0])\n",
    "\n",
    "    \n",
    "print(\"Layers that will be used for visualization: \")\n",
    "print(layer_names)"
   ]
  },
  {
   "cell_type": "code",
   "execution_count": 24,
   "id": "91be2608",
   "metadata": {},
   "outputs": [],
   "source": [
    "test_batches=16\n",
    "def get_CAM(processed_image, actual_label, layer_name='block5_conv3'):\n",
    "    model_grad = Model([model.inputs], \n",
    "                       [model.get_layer(layer_name).output, model.output])\n",
    "    \n",
    "    with tf.GradientTape() as tape:\n",
    "        conv_output_values, predictions = model_grad(processed_image)\n",
    "\n",
    "        tape.watch(conv_output_values)\n",
    "        pred_prob = predictions[:,1] \n",
    "        actual_label = tf.cast(actual_label, dtype=tf.float32)\n",
    "        smoothing = 0.00001 \n",
    "        loss = -1 * (actual_label * tf.math.log(pred_prob + smoothing) + (1 - actual_label) * tf.math.log(1 - pred_prob + smoothing))\n",
    "        print(f\"binary loss: {loss}\")\n",
    "    \n",
    "    # get the gradient of the loss with respect to the outputs of the last conv layer\n",
    "    grads_values = tape.gradient(loss, conv_output_values)\n",
    "    grads_values = K.mean(grads_values, axis=(0,1,2))\n",
    "    conv_output_values = np.squeeze(conv_output_values.numpy())\n",
    "    grads_values = grads_values.numpy()\n",
    "    \n",
    "    # weight the convolution outputs with the computed gradients\n",
    "    for i in range(512): \n",
    "        conv_output_values[:,:,i] *= grads_values[i]\n",
    "    heatmap = np.mean(conv_output_values, axis=-1)\n",
    "    \n",
    "    heatmap = np.maximum(heatmap, 0)\n",
    "    heatmap /= heatmap.max()\n",
    "    \n",
    "    del model_grad, conv_output_values, grads_values, loss\n",
    "   \n",
    "    return heatmap"
   ]
  },
  {
   "cell_type": "code",
   "execution_count": 25,
   "id": "f1ff5bf8",
   "metadata": {},
   "outputs": [],
   "source": [
    "def show_sample(idx=None):\n",
    "    \n",
    "    # if image index is specified, get that image\n",
    "    if idx:\n",
    "        for img, label in test_batches.take(idx):\n",
    "            sample_image = img[0]\n",
    "            sample_label = label[0]\n",
    "    # otherwise if idx is not specified, get a random image\n",
    "    else:\n",
    "        for img, label in test_batches.shuffle(1000).take(1):\n",
    "            sample_image = img[0]\n",
    "            sample_label = label[0]\n",
    "    \n",
    "    sample_image_processed = np.expand_dims(sample_image, axis=0)\n",
    "    \n",
    "    activations = vis_model.predict(sample_image_processed)\n",
    "    \n",
    "    pred_label = np.argmax(model.predict(sample_image_processed), axis=-1)[0]\n",
    "    \n",
    "    sample_activation = activations[0][0,:,:,16]\n",
    "    \n",
    "    sample_activation-=sample_activation.mean()\n",
    "    sample_activation/=sample_activation.std()\n",
    "    \n",
    "    sample_activation *=255\n",
    "    sample_activation = np.clip(sample_activation, 0, 255).astype(np.uint8)\n",
    "    \n",
    "    heatmap = get_CAM(sample_image_processed, sample_label)\n",
    "    heatmap = cv2.resize(heatmap, (sample_image.shape[0], sample_image.shape[1]))\n",
    "    heatmap = heatmap *255\n",
    "    heatmap = np.clip(heatmap, 0, 255).astype(np.uint8)\n",
    "    heatmap = cv2.applyColorMap(heatmap, cv2.COLORMAP_HOT)\n",
    "    converted_img = sample_image.numpy()\n",
    "    super_imposed_image = cv2.addWeighted(converted_img, 0.8, heatmap.astype('float32'), 2e-3, 0.0)\n",
    "\n",
    "    f,ax = plt.subplots(2,2, figsize=(15,8))\n",
    "\n",
    "    ax[0,0].imshow(sample_image)\n",
    "    ax[0,0].set_title(f\"True label: {sample_label} \\n Predicted label: {pred_label}\")\n",
    "    ax[0,0].axis('off')\n",
    "    \n",
    "    ax[0,1].imshow(sample_activation)\n",
    "    ax[0,1].set_title(\"Random feature map\")\n",
    "    ax[0,1].axis('off')\n",
    "    \n",
    "    ax[1,0].imshow(heatmap)\n",
    "    ax[1,0].set_title(\"Class Activation Map\")\n",
    "    ax[1,0].axis('off')\n",
    "    \n",
    "    ax[1,1].imshow(super_imposed_image)\n",
    "    ax[1,1].set_title(\"Activation map superimposed\")\n",
    "    ax[1,1].axis('off')\n",
    "    plt.tight_layout()\n",
    "    plt.show()\n",
    "  \n",
    "    return activations"
   ]
  },
  {
   "cell_type": "code",
   "execution_count": 26,
   "id": "076fa7f4",
   "metadata": {},
   "outputs": [
    {
     "ename": "AttributeError",
     "evalue": "'int' object has no attribute 'shuffle'",
     "output_type": "error",
     "traceback": [
      "\u001b[1;31m---------------------------------------------------------------------------\u001b[0m",
      "\u001b[1;31mAttributeError\u001b[0m                            Traceback (most recent call last)",
      "\u001b[1;32md:\\Github\\Oral-Cancer-Detection\\Phase-1\\VGG.ipynb Cell 15'\u001b[0m in \u001b[0;36m<module>\u001b[1;34m\u001b[0m\n\u001b[0;32m      <a href='vscode-notebook-cell:/d%3A/Github/Oral-Cancer-Detection/Phase-1/VGG.ipynb#ch0000021?line=0'>1</a>\u001b[0m \u001b[39m# Choose an image index to show, or leave it as None to get a random image\u001b[39;00m\n\u001b[1;32m----> <a href='vscode-notebook-cell:/d%3A/Github/Oral-Cancer-Detection/Phase-1/VGG.ipynb#ch0000021?line=1'>2</a>\u001b[0m activations \u001b[39m=\u001b[39m show_sample(idx\u001b[39m=\u001b[39;49m\u001b[39mNone\u001b[39;49;00m)\n",
      "\u001b[1;32md:\\Github\\Oral-Cancer-Detection\\Phase-1\\VGG.ipynb Cell 14'\u001b[0m in \u001b[0;36mshow_sample\u001b[1;34m(idx)\u001b[0m\n\u001b[0;32m      <a href='vscode-notebook-cell:/d%3A/Github/Oral-Cancer-Detection/Phase-1/VGG.ipynb#ch0000020?line=6'>7</a>\u001b[0m         sample_label \u001b[39m=\u001b[39m label[\u001b[39m0\u001b[39m]\n\u001b[0;32m      <a href='vscode-notebook-cell:/d%3A/Github/Oral-Cancer-Detection/Phase-1/VGG.ipynb#ch0000020?line=7'>8</a>\u001b[0m \u001b[39m# otherwise if idx is not specified, get a random image\u001b[39;00m\n\u001b[0;32m      <a href='vscode-notebook-cell:/d%3A/Github/Oral-Cancer-Detection/Phase-1/VGG.ipynb#ch0000020?line=8'>9</a>\u001b[0m \u001b[39melse\u001b[39;00m:\n\u001b[1;32m---> <a href='vscode-notebook-cell:/d%3A/Github/Oral-Cancer-Detection/Phase-1/VGG.ipynb#ch0000020?line=9'>10</a>\u001b[0m     \u001b[39mfor\u001b[39;00m img, label \u001b[39min\u001b[39;00m test_batches\u001b[39m.\u001b[39;49mshuffle(\u001b[39m1000\u001b[39m)\u001b[39m.\u001b[39mtake(\u001b[39m1\u001b[39m):\n\u001b[0;32m     <a href='vscode-notebook-cell:/d%3A/Github/Oral-Cancer-Detection/Phase-1/VGG.ipynb#ch0000020?line=10'>11</a>\u001b[0m         sample_image \u001b[39m=\u001b[39m img[\u001b[39m0\u001b[39m]\n\u001b[0;32m     <a href='vscode-notebook-cell:/d%3A/Github/Oral-Cancer-Detection/Phase-1/VGG.ipynb#ch0000020?line=11'>12</a>\u001b[0m         sample_label \u001b[39m=\u001b[39m label[\u001b[39m0\u001b[39m]\n",
      "\u001b[1;31mAttributeError\u001b[0m: 'int' object has no attribute 'shuffle'"
     ]
    }
   ],
   "source": [
    "# Choose an image index to show, or leave it as None to get a random image\n",
    "activations = show_sample(idx=None)"
   ]
  },
  {
   "cell_type": "markdown",
   "id": "c6959a6e",
   "metadata": {},
   "source": [
    "# VGG 19"
   ]
  },
  {
   "cell_type": "code",
   "execution_count": 12,
   "id": "143a934f",
   "metadata": {},
   "outputs": [],
   "source": [
    "from keras.applications.vgg19 import VGG19"
   ]
  },
  {
   "cell_type": "code",
   "execution_count": 13,
   "id": "9e9ef24b",
   "metadata": {},
   "outputs": [],
   "source": [
    "model = VGG19(include_top=False, weights='imagenet', input_shape=(224,224,3))\n",
    "for layer in model.layers:\n",
    "    layer.trainable=False"
   ]
  },
  {
   "cell_type": "code",
   "execution_count": 14,
   "id": "a1193747",
   "metadata": {},
   "outputs": [
    {
     "name": "stdout",
     "output_type": "stream",
     "text": [
      "Model: \"model_1\"\n",
      "_________________________________________________________________\n",
      " Layer (type)                Output Shape              Param #   \n",
      "=================================================================\n",
      " input_2 (InputLayer)        [(None, 224, 224, 3)]     0         \n",
      "                                                                 \n",
      " block1_conv1 (Conv2D)       (None, 224, 224, 64)      1792      \n",
      "                                                                 \n",
      " block1_conv2 (Conv2D)       (None, 224, 224, 64)      36928     \n",
      "                                                                 \n",
      " block1_pool (MaxPooling2D)  (None, 112, 112, 64)      0         \n",
      "                                                                 \n",
      " block2_conv1 (Conv2D)       (None, 112, 112, 128)     73856     \n",
      "                                                                 \n",
      " block2_conv2 (Conv2D)       (None, 112, 112, 128)     147584    \n",
      "                                                                 \n",
      " block2_pool (MaxPooling2D)  (None, 56, 56, 128)       0         \n",
      "                                                                 \n",
      " block3_conv1 (Conv2D)       (None, 56, 56, 256)       295168    \n",
      "                                                                 \n",
      " block3_conv2 (Conv2D)       (None, 56, 56, 256)       590080    \n",
      "                                                                 \n",
      " block3_conv3 (Conv2D)       (None, 56, 56, 256)       590080    \n",
      "                                                                 \n",
      " block3_conv4 (Conv2D)       (None, 56, 56, 256)       590080    \n",
      "                                                                 \n",
      " block3_pool (MaxPooling2D)  (None, 28, 28, 256)       0         \n",
      "                                                                 \n",
      " block4_conv1 (Conv2D)       (None, 28, 28, 512)       1180160   \n",
      "                                                                 \n",
      " block4_conv2 (Conv2D)       (None, 28, 28, 512)       2359808   \n",
      "                                                                 \n",
      " block4_conv3 (Conv2D)       (None, 28, 28, 512)       2359808   \n",
      "                                                                 \n",
      " block4_conv4 (Conv2D)       (None, 28, 28, 512)       2359808   \n",
      "                                                                 \n",
      " block4_pool (MaxPooling2D)  (None, 14, 14, 512)       0         \n",
      "                                                                 \n",
      " block5_conv1 (Conv2D)       (None, 14, 14, 512)       2359808   \n",
      "                                                                 \n",
      " block5_conv2 (Conv2D)       (None, 14, 14, 512)       2359808   \n",
      "                                                                 \n",
      " block5_conv3 (Conv2D)       (None, 14, 14, 512)       2359808   \n",
      "                                                                 \n",
      " block5_conv4 (Conv2D)       (None, 14, 14, 512)       2359808   \n",
      "                                                                 \n",
      " block5_pool (MaxPooling2D)  (None, 7, 7, 512)         0         \n",
      "                                                                 \n",
      " flatten_1 (Flatten)         (None, 25088)             0         \n",
      "                                                                 \n",
      " dense_2 (Dense)             (None, 64)                1605696   \n",
      "                                                                 \n",
      " dropout_1 (Dropout)         (None, 64)                0         \n",
      "                                                                 \n",
      " dense_3 (Dense)             (None, 1)                 65        \n",
      "                                                                 \n",
      "=================================================================\n",
      "Total params: 21,630,145\n",
      "Trainable params: 1,605,761\n",
      "Non-trainable params: 20,024,384\n",
      "_________________________________________________________________\n"
     ]
    }
   ],
   "source": [
    "av1 = Flatten()(model.output)\n",
    "fc1 = Dense(64,activation='relu')(av1)\n",
    "d1 = Dropout(0.6)(fc1)\n",
    "fc2 = Dense(1,activation='softmax')(d1)\n",
    "model_new = Model(model.input,fc2)\n",
    "model_new.summary()"
   ]
  },
  {
   "cell_type": "code",
   "execution_count": 15,
   "id": "e80394e7",
   "metadata": {},
   "outputs": [],
   "source": [
    "adam = tf.keras.optimizers.Adam(learning_rate=0.003)\n",
    "model_new.compile(loss='binary_crossentropy',optimizer=adam,metrics=['accuracy'])"
   ]
  },
  {
   "cell_type": "code",
   "execution_count": 16,
   "id": "49689255",
   "metadata": {},
   "outputs": [
    {
     "name": "stdout",
     "output_type": "stream",
     "text": [
      "Epoch 1/10\n",
      "4/4 [==============================] - 2s 445ms/step - loss: 6.1843 - accuracy: 0.6562 - val_loss: 3.2859 - val_accuracy: 0.6702\n",
      "Epoch 2/10\n",
      "4/4 [==============================] - 2s 419ms/step - loss: 3.9563 - accuracy: 0.6875 - val_loss: 0.4056 - val_accuracy: 0.6702\n",
      "Epoch 3/10\n",
      "4/4 [==============================] - 1s 390ms/step - loss: 1.3027 - accuracy: 0.6875 - val_loss: 0.2556 - val_accuracy: 0.6702\n",
      "Epoch 4/10\n",
      "4/4 [==============================] - 1s 387ms/step - loss: 1.3162 - accuracy: 0.6094 - val_loss: 1.3920 - val_accuracy: 0.6702\n",
      "Epoch 5/10\n",
      "4/4 [==============================] - 1s 398ms/step - loss: 0.6696 - accuracy: 0.6719 - val_loss: 0.3278 - val_accuracy: 0.6702\n",
      "Epoch 6/10\n",
      "4/4 [==============================] - 1s 394ms/step - loss: 0.2969 - accuracy: 0.6719 - val_loss: 0.3773 - val_accuracy: 0.6702\n",
      "Epoch 7/10\n",
      "4/4 [==============================] - 1s 379ms/step - loss: 0.3732 - accuracy: 0.7031 - val_loss: 0.2610 - val_accuracy: 0.6702\n",
      "Epoch 8/10\n",
      "4/4 [==============================] - 1s 390ms/step - loss: 0.2135 - accuracy: 0.6406 - val_loss: 0.3897 - val_accuracy: 0.6702\n",
      "Epoch 9/10\n",
      "4/4 [==============================] - 1s 385ms/step - loss: 0.4155 - accuracy: 0.7500 - val_loss: 0.3440 - val_accuracy: 0.6702\n",
      "Epoch 10/10\n",
      "4/4 [==============================] - 1s 394ms/step - loss: 0.3135 - accuracy: 0.6429 - val_loss: 0.2835 - val_accuracy: 0.6702\n"
     ]
    }
   ],
   "source": [
    "hist = model_new.fit(\n",
    "    train_generator,\n",
    "    steps_per_epoch = 4,\n",
    "    epochs = 10,\n",
    "    batch_size=16,\n",
    "    validation_data = val_generator,\n",
    ")"
   ]
  },
  {
   "cell_type": "code",
   "execution_count": null,
   "id": "63abd5a4",
   "metadata": {},
   "outputs": [],
   "source": []
  }
 ],
 "metadata": {
  "kernelspec": {
   "display_name": "Python 3 (ipykernel)",
   "language": "python",
   "name": "python3"
  },
  "language_info": {
   "codemirror_mode": {
    "name": "ipython",
    "version": 3
   },
   "file_extension": ".py",
   "mimetype": "text/x-python",
   "name": "python",
   "nbconvert_exporter": "python",
   "pygments_lexer": "ipython3",
   "version": "3.8.0"
  }
 },
 "nbformat": 4,
 "nbformat_minor": 5
}
