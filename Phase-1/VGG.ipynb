{
 "cells": [
  {
   "cell_type": "code",
   "execution_count": 1,
   "id": "274d038a",
   "metadata": {},
   "outputs": [],
   "source": [
    "from PIL import Image\n",
    "import os\n",
    "import glob\n",
    "from keras.preprocessing import image\n",
    "import keras.preprocessing\n",
    "import tensorflow as tf"
   ]
  },
  {
   "cell_type": "code",
   "execution_count": 18,
   "id": "3ba8ad8e",
   "metadata": {},
   "outputs": [],
   "source": [
    "train_gen = image.ImageDataGenerator(\n",
    "    rescale = 1/255.0,\n",
    "    shear_range = 0.2,\n",
    "    zoom_range = 0.2,\n",
    "    horizontal_flip = True,\n",
    ")\n",
    "\n",
    "test_gen = image.ImageDataGenerator(rescale=1/255.0)"
   ]
  },
  {
   "cell_type": "code",
   "execution_count": 19,
   "id": "931dd163",
   "metadata": {},
   "outputs": [
    {
     "name": "stdout",
     "output_type": "stream",
     "text": [
      "Found 280 images belonging to 2 classes.\n"
     ]
    }
   ],
   "source": [
    "train_generator = train_gen.flow_from_directory(\n",
    "    r\"D:\\\\Github\\\\Oral-cancer\\\\Phase 1\\\\Tongue\\\\Train\\\\\",\n",
    "    target_size = (224,224),\n",
    "    batch_size = 16,\n",
    "    class_mode = 'binary')"
   ]
  },
  {
   "cell_type": "code",
   "execution_count": 20,
   "id": "598d5b2b",
   "metadata": {},
   "outputs": [
    {
     "data": {
      "text/plain": [
       "{'Cancer': 0, 'Non Cancer': 1}"
      ]
     },
     "execution_count": 20,
     "metadata": {},
     "output_type": "execute_result"
    }
   ],
   "source": [
    "train_generator.class_indices"
   ]
  },
  {
   "cell_type": "code",
   "execution_count": 21,
   "id": "d847fe06",
   "metadata": {},
   "outputs": [
    {
     "name": "stdout",
     "output_type": "stream",
     "text": [
      "Found 94 images belonging to 2 classes.\n"
     ]
    }
   ],
   "source": [
    "val_generator = test_gen.flow_from_directory(\n",
    "    r\"D:\\\\Github\\\\Oral-cancer\\\\Phase 1\\\\Tongue\\\\Val\\\\\",\n",
    "    target_size = (224,224),\n",
    "    batch_size = 16,\n",
    "    class_mode = 'binary')"
   ]
  },
  {
   "cell_type": "code",
   "execution_count": 6,
   "id": "b980ec63",
   "metadata": {},
   "outputs": [],
   "source": [
    "# Create the VGG16 models\n",
    "\n",
    "from keras.applications.vgg16 import VGG16\n",
    "import keras\n",
    "from keras.layers import *\n",
    "from keras.models import Model \n",
    "import matplotlib.pyplot as plt"
   ]
  },
  {
   "cell_type": "code",
   "execution_count": 22,
   "id": "d6a45ab5",
   "metadata": {},
   "outputs": [],
   "source": [
    "model = VGG16(include_top=False, weights='imagenet', input_shape=(224,224,3))\n",
    "for layer in model.layers:\n",
    "    layer.trainable=False"
   ]
  },
  {
   "cell_type": "code",
   "execution_count": 23,
   "id": "ee048f35",
   "metadata": {},
   "outputs": [
    {
     "name": "stdout",
     "output_type": "stream",
     "text": [
      "Model: \"model_2\"\n",
      "_________________________________________________________________\n",
      " Layer (type)                Output Shape              Param #   \n",
      "=================================================================\n",
      " input_3 (InputLayer)        [(None, 224, 224, 3)]     0         \n",
      "                                                                 \n",
      " block1_conv1 (Conv2D)       (None, 224, 224, 64)      1792      \n",
      "                                                                 \n",
      " block1_conv2 (Conv2D)       (None, 224, 224, 64)      36928     \n",
      "                                                                 \n",
      " block1_pool (MaxPooling2D)  (None, 112, 112, 64)      0         \n",
      "                                                                 \n",
      " block2_conv1 (Conv2D)       (None, 112, 112, 128)     73856     \n",
      "                                                                 \n",
      " block2_conv2 (Conv2D)       (None, 112, 112, 128)     147584    \n",
      "                                                                 \n",
      " block2_pool (MaxPooling2D)  (None, 56, 56, 128)       0         \n",
      "                                                                 \n",
      " block3_conv1 (Conv2D)       (None, 56, 56, 256)       295168    \n",
      "                                                                 \n",
      " block3_conv2 (Conv2D)       (None, 56, 56, 256)       590080    \n",
      "                                                                 \n",
      " block3_conv3 (Conv2D)       (None, 56, 56, 256)       590080    \n",
      "                                                                 \n",
      " block3_pool (MaxPooling2D)  (None, 28, 28, 256)       0         \n",
      "                                                                 \n",
      " block4_conv1 (Conv2D)       (None, 28, 28, 512)       1180160   \n",
      "                                                                 \n",
      " block4_conv2 (Conv2D)       (None, 28, 28, 512)       2359808   \n",
      "                                                                 \n",
      " block4_conv3 (Conv2D)       (None, 28, 28, 512)       2359808   \n",
      "                                                                 \n",
      " block4_pool (MaxPooling2D)  (None, 14, 14, 512)       0         \n",
      "                                                                 \n",
      " block5_conv1 (Conv2D)       (None, 14, 14, 512)       2359808   \n",
      "                                                                 \n",
      " block5_conv2 (Conv2D)       (None, 14, 14, 512)       2359808   \n",
      "                                                                 \n",
      " block5_conv3 (Conv2D)       (None, 14, 14, 512)       2359808   \n",
      "                                                                 \n",
      " block5_pool (MaxPooling2D)  (None, 7, 7, 512)         0         \n",
      "                                                                 \n",
      " flatten_1 (Flatten)         (None, 25088)             0         \n",
      "                                                                 \n",
      " dense_4 (Dense)             (None, 64)                1605696   \n",
      "                                                                 \n",
      " dropout_2 (Dropout)         (None, 64)                0         \n",
      "                                                                 \n",
      " dense_5 (Dense)             (None, 1)                 65        \n",
      "                                                                 \n",
      "=================================================================\n",
      "Total params: 16,320,449\n",
      "Trainable params: 1,605,761\n",
      "Non-trainable params: 14,714,688\n",
      "_________________________________________________________________\n"
     ]
    }
   ],
   "source": [
    "av1 = Flatten()(model.output)\n",
    "fc1 = Dense(64,activation='relu')(av1)\n",
    "d1 = Dropout(0.6)(fc1)\n",
    "fc2 = Dense(1,activation='softmax')(d1)\n",
    "model_new = Model(model.input,fc2)\n",
    "model_new.summary()"
   ]
  },
  {
   "cell_type": "code",
   "execution_count": 24,
   "id": "975c2602",
   "metadata": {},
   "outputs": [],
   "source": [
    "adam = tf.keras.optimizers.Adam(learning_rate=0.001)\n",
    "model_new.compile(loss='binary_crossentropy',optimizer=adam,metrics=['accuracy'])"
   ]
  },
  {
   "cell_type": "code",
   "execution_count": 25,
   "id": "feaf4763",
   "metadata": {},
   "outputs": [
    {
     "name": "stdout",
     "output_type": "stream",
     "text": [
      "Epoch 1/10\n",
      "4/4 [==============================] - 39s 7s/step - loss: 1.8343 - accuracy: 0.6875 - val_loss: 0.5991 - val_accuracy: 0.6702\n",
      "Epoch 2/10\n",
      "4/4 [==============================] - 5s 2s/step - loss: 0.6498 - accuracy: 0.6094 - val_loss: 0.7976 - val_accuracy: 0.6702\n",
      "Epoch 3/10\n",
      "4/4 [==============================] - 6s 2s/step - loss: 0.7939 - accuracy: 0.6406 - val_loss: 0.3426 - val_accuracy: 0.6702\n",
      "Epoch 4/10\n",
      "4/4 [==============================] - 5s 2s/step - loss: 0.2695 - accuracy: 0.7188 - val_loss: 0.3769 - val_accuracy: 0.6702\n",
      "Epoch 5/10\n",
      "4/4 [==============================] - 15s 5s/step - loss: 0.4243 - accuracy: 0.6607 - val_loss: 0.2734 - val_accuracy: 0.6702\n",
      "Epoch 6/10\n",
      "4/4 [==============================] - 6s 2s/step - loss: 0.3145 - accuracy: 0.6406 - val_loss: 0.3833 - val_accuracy: 0.6702\n",
      "Epoch 7/10\n",
      "4/4 [==============================] - 6s 2s/step - loss: 0.3490 - accuracy: 0.6094 - val_loss: 0.3012 - val_accuracy: 0.6702\n",
      "Epoch 8/10\n",
      "4/4 [==============================] - 6s 2s/step - loss: 0.2464 - accuracy: 0.6562 - val_loss: 0.2629 - val_accuracy: 0.6702\n",
      "Epoch 9/10\n",
      "4/4 [==============================] - 6s 2s/step - loss: 0.2001 - accuracy: 0.6562 - val_loss: 0.2453 - val_accuracy: 0.6702\n",
      "Epoch 10/10\n",
      "4/4 [==============================] - 6s 2s/step - loss: 0.2772 - accuracy: 0.6562 - val_loss: 0.2649 - val_accuracy: 0.6702\n"
     ]
    }
   ],
   "source": [
    "hist = model_new.fit(\n",
    "    train_generator,\n",
    "    steps_per_epoch = 4,\n",
    "    epochs = 10,\n",
    "    batch_size=8,\n",
    "    validation_data = val_generator,\n",
    ")"
   ]
  },
  {
   "cell_type": "code",
   "execution_count": 26,
   "id": "7b025f40",
   "metadata": {},
   "outputs": [
    {
     "data": {
      "image/png": "[encoded data removed]",
      "text/plain": [
       "<Figure size 432x288 with 1 Axes>"
      ]
     },
     "metadata": {
      "needs_background": "light"
     },
     "output_type": "display_data"
    },
    {
     "data": {
      "image/png": "[encoded data removed]",
      "text/plain": [
       "<Figure size 432x288 with 1 Axes>"
      ]
     },
     "metadata": {
      "needs_background": "light"
     },
     "output_type": "display_data"
    }
   ],
   "source": [
    "acc = hist.history['accuracy']\n",
    "val_acc = hist.history['val_accuracy']\n",
    "loss = hist.history['loss']\n",
    "val_loss = hist.history['val_loss']\n",
    "\n",
    "epochs = range(len(acc))\n",
    "\n",
    "plt.plot(epochs, acc, 'r', label='Training accuracy')\n",
    "plt.plot(epochs, val_acc, 'b', label='Validation accuracy')\n",
    "plt.title('Training and validation accuracy')\n",
    "plt.legend(loc=0)\n",
    "plt.figure()\n",
    "plt.plot(epochs, loss, 'r', label='Training loss')\n",
    "plt.plot(epochs, val_loss, 'b', label='Validation loss')\n",
    "plt.legend(loc=0)\n",
    "plt.title('Training and validation accuracy')\n",
    "\n",
    "plt.show()"
   ]
  },
  {
   "cell_type": "code",
   "execution_count": 8,
   "id": "143a934f",
   "metadata": {},
   "outputs": [],
   "source": [
    "from keras.applications.vgg19 import VGG19"
   ]
  },
  {
   "cell_type": "code",
   "execution_count": 12,
   "id": "9e9ef24b",
   "metadata": {},
   "outputs": [
    {
     "ename": "NameError",
     "evalue": "name 'VGG19' is not defined",
     "output_type": "error",
     "traceback": [
      "\u001b[1;31m---------------------------------------------------------------------------\u001b[0m",
      "\u001b[1;31mNameError\u001b[0m                                 Traceback (most recent call last)",
      "\u001b[1;32md:\\Github\\Oral-Cancer-Detection\\Phase-1\\VGG.ipynb Cell 13'\u001b[0m in \u001b[0;36m<module>\u001b[1;34m\u001b[0m\n\u001b[1;32m----> <a href='vscode-notebook-cell:/d%3A/Github/Oral-Cancer-Detection/Phase-1/VGG.ipynb#ch0000012?line=0'>1</a>\u001b[0m model \u001b[39m=\u001b[39m VGG19(include_top\u001b[39m=\u001b[39m\u001b[39mFalse\u001b[39;00m, weights\u001b[39m=\u001b[39m\u001b[39m'\u001b[39m\u001b[39mimagenet\u001b[39m\u001b[39m'\u001b[39m, input_shape\u001b[39m=\u001b[39m(\u001b[39m224\u001b[39m,\u001b[39m224\u001b[39m,\u001b[39m3\u001b[39m))\n\u001b[0;32m      <a href='vscode-notebook-cell:/d%3A/Github/Oral-Cancer-Detection/Phase-1/VGG.ipynb#ch0000012?line=1'>2</a>\u001b[0m \u001b[39mfor\u001b[39;00m layer \u001b[39min\u001b[39;00m model\u001b[39m.\u001b[39mlayers:\n\u001b[0;32m      <a href='vscode-notebook-cell:/d%3A/Github/Oral-Cancer-Detection/Phase-1/VGG.ipynb#ch0000012?line=2'>3</a>\u001b[0m     layer\u001b[39m.\u001b[39mtrainable\u001b[39m=\u001b[39m\u001b[39mFalse\u001b[39;00m\n",
      "\u001b[1;31mNameError\u001b[0m: name 'VGG19' is not defined"
     ]
    }
   ],
   "source": [
    "model = VGG19(include_top=False, weights='imagenet', input_shape=(224,224,3))\n",
    "for layer in model.layers:\n",
    "    layer.trainable=False"
   ]
  },
  {
   "cell_type": "code",
   "execution_count": 16,
   "id": "a1193747",
   "metadata": {},
   "outputs": [
    {
     "name": "stdout",
     "output_type": "stream",
     "text": [
      "Model: \"model_1\"\n",
      "_________________________________________________________________\n",
      " Layer (type)                Output Shape              Param #   \n",
      "=================================================================\n",
      " input_2 (InputLayer)        [(None, 224, 224, 3)]     0         \n",
      "                                                                 \n",
      " block1_conv1 (Conv2D)       (None, 224, 224, 64)      1792      \n",
      "                                                                 \n",
      " block1_conv2 (Conv2D)       (None, 224, 224, 64)      36928     \n",
      "                                                                 \n",
      " block1_pool (MaxPooling2D)  (None, 112, 112, 64)      0         \n",
      "                                                                 \n",
      " block2_conv1 (Conv2D)       (None, 112, 112, 128)     73856     \n",
      "                                                                 \n",
      " block2_conv2 (Conv2D)       (None, 112, 112, 128)     147584    \n",
      "                                                                 \n",
      " block2_pool (MaxPooling2D)  (None, 56, 56, 128)       0         \n",
      "                                                                 \n",
      " block3_conv1 (Conv2D)       (None, 56, 56, 256)       295168    \n",
      "                                                                 \n",
      " block3_conv2 (Conv2D)       (None, 56, 56, 256)       590080    \n",
      "                                                                 \n",
      " block3_conv3 (Conv2D)       (None, 56, 56, 256)       590080    \n",
      "                                                                 \n",
      " block3_conv4 (Conv2D)       (None, 56, 56, 256)       590080    \n",
      "                                                                 \n",
      " block3_pool (MaxPooling2D)  (None, 28, 28, 256)       0         \n",
      "                                                                 \n",
      " block4_conv1 (Conv2D)       (None, 28, 28, 512)       1180160   \n",
      "                                                                 \n",
      " block4_conv2 (Conv2D)       (None, 28, 28, 512)       2359808   \n",
      "                                                                 \n",
      " block4_conv3 (Conv2D)       (None, 28, 28, 512)       2359808   \n",
      "                                                                 \n",
      " block4_conv4 (Conv2D)       (None, 28, 28, 512)       2359808   \n",
      "                                                                 \n",
      " block4_pool (MaxPooling2D)  (None, 14, 14, 512)       0         \n",
      "                                                                 \n",
      " block5_conv1 (Conv2D)       (None, 14, 14, 512)       2359808   \n",
      "                                                                 \n",
      " block5_conv2 (Conv2D)       (None, 14, 14, 512)       2359808   \n",
      "                                                                 \n",
      " block5_conv3 (Conv2D)       (None, 14, 14, 512)       2359808   \n",
      "                                                                 \n",
      " block5_conv4 (Conv2D)       (None, 14, 14, 512)       2359808   \n",
      "                                                                 \n",
      " block5_pool (MaxPooling2D)  (None, 7, 7, 512)         0         \n",
      "                                                                 \n",
      " global_average_pooling2d_1   (None, 512)              0         \n",
      " (GlobalAveragePooling2D)                                        \n",
      "                                                                 \n",
      " dense_2 (Dense)             (None, 64)                32832     \n",
      "                                                                 \n",
      " dropout_1 (Dropout)         (None, 64)                0         \n",
      "                                                                 \n",
      " dense_3 (Dense)             (None, 1)                 65        \n",
      "                                                                 \n",
      "=================================================================\n",
      "Total params: 20,057,281\n",
      "Trainable params: 32,897\n",
      "Non-trainable params: 20,024,384\n",
      "_________________________________________________________________\n"
     ]
    }
   ],
   "source": [
    "av1 = Flatten()(model.output)\n",
    "fc1 = Dense(64,activation='relu')(av1)\n",
    "d1 = Dropout(0.6)(fc1)\n",
    "fc2 = Dense(1,activation='softmax')(d1)\n",
    "model_new = Model(model.input,fc2)\n",
    "model_new.summary()"
   ]
  },
  {
   "cell_type": "code",
   "execution_count": 17,
   "id": "e80394e7",
   "metadata": {},
   "outputs": [],
   "source": [
    "adam = tf.keras.optimizers.Adam(learning_rate=0.003)\n",
    "model_new.compile(loss='binary_crossentropy',optimizer=adam,metrics=['accuracy'])"
   ]
  },
  {
   "cell_type": "code",
   "execution_count": 18,
   "id": "49689255",
   "metadata": {},
   "outputs": [
    {
     "name": "stdout",
     "output_type": "stream",
     "text": [
      "Epoch 1/10\n",
      "4/4 [==============================] - 7s 1s/step - loss: 0.6829 - accuracy: 0.4206 - val_loss: 0.8423 - val_accuracy: 0.6250\n",
      "Epoch 2/10\n",
      "4/4 [==============================] - 3s 611ms/step - loss: 0.7548 - accuracy: 0.4393 - val_loss: 0.6884 - val_accuracy: 0.6250\n",
      "Epoch 3/10\n",
      "4/4 [==============================] - 3s 657ms/step - loss: 0.6258 - accuracy: 0.4299 - val_loss: 0.6157 - val_accuracy: 0.6250\n",
      "Epoch 4/10\n",
      "4/4 [==============================] - 3s 651ms/step - loss: 0.6283 - accuracy: 0.4579 - val_loss: 0.5686 - val_accuracy: 0.6250\n",
      "Epoch 5/10\n",
      "4/4 [==============================] - 4s 823ms/step - loss: 0.5737 - accuracy: 0.4299 - val_loss: 0.5660 - val_accuracy: 0.6250\n",
      "Epoch 6/10\n",
      "4/4 [==============================] - 3s 658ms/step - loss: 0.5839 - accuracy: 0.4766 - val_loss: 0.5060 - val_accuracy: 0.6250\n",
      "Epoch 7/10\n",
      "4/4 [==============================] - 3s 721ms/step - loss: 0.5393 - accuracy: 0.4609 - val_loss: 0.4742 - val_accuracy: 0.6250\n",
      "Epoch 8/10\n",
      "4/4 [==============================] - 3s 786ms/step - loss: 0.5548 - accuracy: 0.4299 - val_loss: 0.4517 - val_accuracy: 0.6250\n",
      "Epoch 9/10\n",
      "4/4 [==============================] - 3s 553ms/step - loss: 0.5378 - accuracy: 0.4299 - val_loss: 0.4748 - val_accuracy: 0.6250\n",
      "Epoch 10/10\n",
      "4/4 [==============================] - 3s 773ms/step - loss: 0.5088 - accuracy: 0.4299 - val_loss: 0.4722 - val_accuracy: 0.6250\n"
     ]
    }
   ],
   "source": [
    "hist = model_new.fit(\n",
    "    train_generator,\n",
    "    steps_per_epoch = 4,\n",
    "    epochs = 10,\n",
    "    batch_size=16,\n",
    "    validation_data = val_generator,\n",
    ")"
   ]
  },
  {
   "cell_type": "code",
   "execution_count": null,
   "id": "63abd5a4",
   "metadata": {},
   "outputs": [],
   "source": []
  }
 ],
 "metadata": {
  "kernelspec": {
   "display_name": "Python 3 (ipykernel)",
   "language": "python",
   "name": "python3"
  },
  "language_info": {
   "codemirror_mode": {
    "name": "ipython",
    "version": 3
   },
   "file_extension": ".py",
   "mimetype": "text/x-python",
   "name": "python",
   "nbconvert_exporter": "python",
   "pygments_lexer": "ipython3",
   "version": "3.8.0"
  }
 },
 "nbformat": 4,
 "nbformat_minor": 5
}
