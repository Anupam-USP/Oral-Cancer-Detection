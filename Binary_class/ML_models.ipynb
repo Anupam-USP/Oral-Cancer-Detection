{
  "cells": [
    {
      "cell_type": "code",
      "execution_count": 1,
      "metadata": {
        "id": "CM1lCf5fsa9A"
      },
      "outputs": [],
      "source": [
        "# %tensorflow_version 2.x\n",
        "\n",
        "import warnings \n",
        "warnings.filterwarnings(\"ignore\")\n",
        "\n",
        "import os\n",
        "import glob\n",
        "import cv2\n",
        "from pathlib import Path\n",
        "\n",
        "import numpy as np\n",
        "import pandas as pd\n",
        "import matplotlib.pyplot as plt\n",
        "import seaborn as sns\n",
        "\n",
        "from skimage.io import imread, imsave\n",
        "from skimage.transform import resize \n",
        "from sklearn.model_selection import train_test_split\n",
        "from tensorflow.keras.models import Model\n",
        "from tensorflow.keras import layers\n",
        "from tensorflow.keras.applications import vgg16\n",
        "from tensorflow.keras.utils import to_categorical\n",
        "from tensorflow.keras.optimizers import SGD, Adam, RMSprop\n",
        "\n",
        "import tensorflow as tf\n",
        "import tensorflow.keras.backend as K\n",
        "from tqdm import tqdm"
      ]
    },
    {
      "cell_type": "code",
      "execution_count": 2,
      "metadata": {
        "id": "WMpv9IVzwtqs",
        "colab": {
          "base_uri": "https://localhost:8080/"
        },
        "outputId": "df436c8b-10d6-4cf2-fc01-a2b9103db561"
      },
      "outputs": [
        {
          "output_type": "stream",
          "name": "stdout",
          "text": [
            "Drive already mounted at /content/drive; to attempt to forcibly remount, call drive.mount(\"/content/drive\", force_remount=True).\n"
          ]
        }
      ],
      "source": [
        "from google.colab import drive\n",
        "drive.mount('/content/drive')"
      ]
    },
    {
      "cell_type": "code",
      "source": [
        "from pathlib import Path\n",
        "train_dir = Path('/content/drive/MyDrive/OralCancer/Final/Phase 1/Tongue/Train/')\n",
        "val_dir = Path('/content/drive/MyDrive/OralCancer/Final/Phase 1/Tongue/Val')\n",
        "\n",
        "cat = ['Cancer','Non-Cancer']\n",
        "labels_dict = {\"Cancer\":0,\"Non-Cancer\":1}\n"
      ],
      "metadata": {
        "id": "IY5kwPwRvcti"
      },
      "execution_count": 3,
      "outputs": []
    },
    {
      "cell_type": "markdown",
      "source": [
        "# Preprocessing & Loading"
      ],
      "metadata": {
        "id": "uSCyfIpAu3wQ"
      }
    },
    {
      "cell_type": "code",
      "source": [
        "from keras.preprocessing import image\n",
        "dirs = train_dir.glob(\"*\")\n",
        "\n",
        "train_img = []\n",
        "train_labels = []\n",
        "\n",
        "for folder_dir in dirs:\n",
        "    label = str(folder_dir).split(\"/\")[-1][:-1]+\"r\"\n",
        "    \n",
        "    for img_path in folder_dir.glob(\"*.jpg\"):\n",
        "        img = image.load_img(img_path,target_size=(224,224))\n",
        "        img_array = image.img_to_array(img)\n",
        "        train_img.append(img_array)\n",
        "        train_labels.append(labels_dict[label])"
      ],
      "metadata": {
        "id": "F1HmUloXwPaN"
      },
      "execution_count": 4,
      "outputs": []
    },
    {
      "cell_type": "code",
      "source": [
        "dirs = val_dir.glob(\"*\")\n",
        "\n",
        "test_img = []\n",
        "test_labels = []\n",
        "\n",
        "for folder_dir in dirs:\n",
        "    label = str(folder_dir).split(\"/\")[-1][:-1]+\"r\"\n",
        "    \n",
        "    for img_path in folder_dir.glob(\"*.jpg\"):\n",
        "        img = image.load_img(img_path,target_size=(224,224))\n",
        "        img_array = image.img_to_array(img)\n",
        "        test_img.append(img_array)\n",
        "        test_labels.append(labels_dict[label])"
      ],
      "metadata": {
        "id": "AX7LTatSn8Uo"
      },
      "execution_count": 5,
      "outputs": []
    },
    {
      "cell_type": "code",
      "source": [
        "import numpy as np\n",
        "train_img = np.array(train_img,dtype='float32')/255.0\n",
        "train_labels = np.array(train_labels)\n",
        "\n",
        "test_img = np.array(test_img,dtype='float32')/255.0\n",
        "test_labels = np.array(test_labels)\n",
        "\n",
        "print(train_img.shape)\n",
        "print(test_img.shape)\n"
      ],
      "metadata": {
        "colab": {
          "base_uri": "https://localhost:8080/"
        },
        "id": "KjPwaZLPljpu",
        "outputId": "3e73b06e-fe51-4081-bf79-f49ef3e7b525"
      },
      "execution_count": 6,
      "outputs": [
        {
          "output_type": "stream",
          "name": "stdout",
          "text": [
            "(280, 224, 224, 3)\n",
            "(93, 224, 224, 3)\n"
          ]
        }
      ]
    },
    {
      "cell_type": "code",
      "source": [
        "m,n = train_img.shape[0], test_img.shape[0]\n",
        "train_img = train_img.reshape(m,-1)\n",
        "test_img = test_img.reshape(n,-1)\n",
        "\n",
        "print(train_img.shape)\n",
        "print(train_labels.shape)\n",
        "print(test_img.shape)\n",
        "print(test_labels.shape)"
      ],
      "metadata": {
        "colab": {
          "base_uri": "https://localhost:8080/"
        },
        "id": "RiaV4YP0okea",
        "outputId": "dc308efb-ebf4-4d62-f4a2-99b24dccb2c5"
      },
      "execution_count": 8,
      "outputs": [
        {
          "output_type": "stream",
          "name": "stdout",
          "text": [
            "(280, 150528)\n",
            "(280,)\n",
            "(93, 150528)\n",
            "(93,)\n"
          ]
        }
      ]
    },
    {
      "cell_type": "code",
      "source": [
        "print(train_img.shape,train_labels.shape)\n",
        "print(test_img.shape,test_labels.shape)"
      ],
      "metadata": {
        "id": "vB-MlAbcwW3e",
        "colab": {
          "base_uri": "https://localhost:8080/"
        },
        "outputId": "06fb5d99-e6d1-411b-e3ef-c6018208d1e4"
      },
      "execution_count": 9,
      "outputs": [
        {
          "output_type": "stream",
          "name": "stdout",
          "text": [
            "(280, 150528) (280,)\n",
            "(93, 150528) (93,)\n"
          ]
        }
      ]
    },
    {
      "cell_type": "code",
      "source": [
        "classes =len(np.unique(train_labels))\n",
        "print(classes)"
      ],
      "metadata": {
        "id": "CnB0yOs-wfVg",
        "colab": {
          "base_uri": "https://localhost:8080/"
        },
        "outputId": "9af8733e-dbd9-43c9-c446-35261d21bc5c"
      },
      "execution_count": 10,
      "outputs": [
        {
          "output_type": "stream",
          "name": "stdout",
          "text": [
            "2\n"
          ]
        }
      ]
    },
    {
      "cell_type": "code",
      "source": [
        "# Feature Scaling\n",
        "from sklearn.preprocessing import StandardScaler\n",
        "sc = StandardScaler()\n",
        "train_img = sc.fit_transform(train_img)\n",
        "test_img = sc.transform(test_img)"
      ],
      "metadata": {
        "id": "jNB2y4aAmwLG"
      },
      "execution_count": 11,
      "outputs": []
    },
    {
      "cell_type": "markdown",
      "source": [
        "# SVM\n",
        "## rbf"
      ],
      "metadata": {
        "id": "uzajoyVmmrpj"
      }
    },
    {
      "cell_type": "code",
      "source": [
        "from sklearn import svm\n",
        "svm_classifier_ = svm.SVC(kernel=\"rbf\",gamma='auto',probability=True)"
      ],
      "metadata": {
        "id": "QMN76_8owioJ"
      },
      "execution_count": 24,
      "outputs": []
    },
    {
      "cell_type": "code",
      "source": [
        "svm_classifier_.fit(train_img,train_labels)\n",
        "svm_classifier_.score(train_img,train_labels)"
      ],
      "metadata": {
        "colab": {
          "base_uri": "https://localhost:8080/"
        },
        "id": "2PQJeYeBm8cD",
        "outputId": "de7a0a8f-e593-40fe-ab90-b4538348e63b"
      },
      "execution_count": 25,
      "outputs": [
        {
          "output_type": "execute_result",
          "data": {
            "text/plain": [
              "1.0"
            ]
          },
          "metadata": {},
          "execution_count": 25
        }
      ]
    },
    {
      "cell_type": "code",
      "source": [
        "y_pred = svm_classifier_.predict_proba(test_img)"
      ],
      "metadata": {
        "id": "b6VP0-0eprOb"
      },
      "execution_count": 26,
      "outputs": []
    },
    {
      "cell_type": "code",
      "source": [
        "print(y_pred)"
      ],
      "metadata": {
        "id": "uJ9mzC2er2yH"
      },
      "execution_count": null,
      "outputs": []
    },
    {
      "cell_type": "code",
      "source": [
        "from sklearn.metrics import accuracy_score\n",
        "print(\"Accuracy on unknown data is\",accuracy_score(test_labels, y_pred))"
      ],
      "metadata": {
        "colab": {
          "base_uri": "https://localhost:8080/"
        },
        "id": "-tkeLdtBpx8Y",
        "outputId": "f241c846-0ed2-468c-e65d-654dcb2f4dfa"
      },
      "execution_count": 15,
      "outputs": [
        {
          "output_type": "stream",
          "name": "stdout",
          "text": [
            "Accuracy on unknown data is 1.0\n"
          ]
        }
      ]
    },
    {
      "cell_type": "code",
      "source": [
        "from sklearn.metrics import confusion_matrix\n",
        "cm = confusion_matrix(test_labels, y_pred)"
      ],
      "metadata": {
        "id": "dfszkPl2eWZ2"
      },
      "execution_count": 17,
      "outputs": []
    },
    {
      "cell_type": "code",
      "source": [
        "import pickle\n",
        "with open('/content/drive/MyDrive/OralCancer/Models/svm_pkl', 'wb') as files:\n",
        "    pickle.dump(svm_classifier_, files)"
      ],
      "metadata": {
        "id": "Ic2Gr0vyr9IL"
      },
      "execution_count": 29,
      "outputs": []
    },
    {
      "cell_type": "markdown",
      "source": [
        "### linear"
      ],
      "metadata": {
        "id": "0YkpUGdScKCq"
      }
    },
    {
      "cell_type": "code",
      "source": [
        "from sklearn import svm\n",
        "svm_classifier = svm.SVC(kernel=\"linear\",gamma='auto')\n",
        "svm_classifier.fit(train_img,train_labels)\n",
        "print(svm_classifier.score(train_img,train_labels))\n",
        "y_pred = svm_classifier.predict(test_img)\n",
        "from sklearn.metrics import accuracy_score\n",
        "print(\"Accuracy on unknown data is\",accuracy_score(test_labels, y_pred))\n",
        "from sklearn.metrics import confusion_matrix\n",
        "cm = confusion_matrix(test_labels, y_pred)"
      ],
      "metadata": {
        "colab": {
          "base_uri": "https://localhost:8080/"
        },
        "id": "KW2YhDepwtuh",
        "outputId": "27408f5f-ae48-4e7c-f694-b31d5c99e16b"
      },
      "execution_count": 20,
      "outputs": [
        {
          "output_type": "stream",
          "name": "stdout",
          "text": [
            "1.0\n",
            "Accuracy on unknown data is 1.0\n"
          ]
        }
      ]
    },
    {
      "cell_type": "code",
      "source": [
        "import pickle\n",
        "with open('/content/drive/MyDrive/OralCancer/Models/svc_pkl', 'wb') as files:\n",
        "    pickle.dump(svc, files)"
      ],
      "metadata": {
        "id": "mgIGQ2OnDBKr"
      },
      "execution_count": 50,
      "outputs": []
    },
    {
      "cell_type": "markdown",
      "source": [
        "# Random Forrest"
      ],
      "metadata": {
        "id": "M_UmyVl5sv5e"
      }
    },
    {
      "cell_type": "code",
      "source": [
        "# Feature Scaling\n",
        "from sklearn.preprocessing import StandardScaler\n",
        "sc = StandardScaler()\n",
        "X_train = sc.fit_transform(train_img)\n",
        "X_test = sc.transform(test_img)"
      ],
      "metadata": {
        "id": "6IbYLgNw1fYY"
      },
      "execution_count": 30,
      "outputs": []
    },
    {
      "cell_type": "code",
      "source": [
        "from sklearn.ensemble import RandomForestClassifier\n",
        "classifier = RandomForestClassifier(n_estimators=50, criterion='entropy', random_state=0)\n",
        "classifier.fit(X_train, train_labels)\n",
        "classifier.score(X_train, train_labels)"
      ],
      "metadata": {
        "colab": {
          "base_uri": "https://localhost:8080/"
        },
        "id": "sXuPARxgFGwL",
        "outputId": "674efe7a-e2e1-448e-bcd2-481aad81b678"
      },
      "execution_count": 33,
      "outputs": [
        {
          "output_type": "execute_result",
          "data": {
            "text/plain": [
              "1.0"
            ]
          },
          "metadata": {},
          "execution_count": 33
        }
      ]
    },
    {
      "cell_type": "code",
      "source": [
        "y_pred = classifier.predict(X_test)\n",
        "print(y_pred)"
      ],
      "metadata": {
        "colab": {
          "base_uri": "https://localhost:8080/"
        },
        "id": "91vifRMatBWN",
        "outputId": "b832f763-e2f0-49d7-8307-84d3d583e931"
      },
      "execution_count": 34,
      "outputs": [
        {
          "output_type": "stream",
          "name": "stdout",
          "text": [
            "[1 1 1 1 1 1 1 1 1 1 1 1 1 1 1 1 1 1 1 1 1 1 1 1 1 1 1 1 1 1 1 1 1 1 1 1 1\n",
            " 1 1 1 1 1 1 1 1 1 1 1 1 1 1 1 1 1 1 1 1 1 1 1 1 1 0 0 0 0 0 0 0 0 0 0 0 0\n",
            " 0 0 0 0 0 0 0 0 0 0 0 0 0 0 0 0 0 0 0]\n"
          ]
        }
      ]
    },
    {
      "cell_type": "code",
      "source": [
        "from sklearn.metrics import accuracy_score\n",
        "print(\"Accuracy on unknown data is\",accuracy_score(test_labels,y_pred))"
      ],
      "metadata": {
        "colab": {
          "base_uri": "https://localhost:8080/"
        },
        "id": "O3YH36rOtL3M",
        "outputId": "404e1a6f-4e92-41bd-96f1-73cc045d5430"
      },
      "execution_count": 35,
      "outputs": [
        {
          "output_type": "stream",
          "name": "stdout",
          "text": [
            "Accuracy on unknown data is 1.0\n"
          ]
        }
      ]
    },
    {
      "cell_type": "code",
      "source": [
        "from sklearn.metrics import confusion_matrix\n",
        "cm = confusion_matrix(test_labels, y_pred)\n",
        "print(cm)"
      ],
      "metadata": {
        "colab": {
          "base_uri": "https://localhost:8080/"
        },
        "id": "fuXvi0_ttAGN",
        "outputId": "4820afb3-aaff-4698-9556-407ef88b8fdc"
      },
      "execution_count": 36,
      "outputs": [
        {
          "output_type": "stream",
          "name": "stdout",
          "text": [
            "[[31  0]\n",
            " [ 0 62]]\n"
          ]
        }
      ]
    },
    {
      "cell_type": "code",
      "source": [
        "with open('/content/drive/MyDrive/OralCancer/Models/random_pkl', 'wb') as files:\n",
        "    pickle.dump(classifier, files)"
      ],
      "metadata": {
        "id": "uYGege4K1pC8"
      },
      "execution_count": 37,
      "outputs": []
    },
    {
      "cell_type": "markdown",
      "source": [
        "# Adaboost"
      ],
      "metadata": {
        "id": "og0TGvrttob1"
      }
    },
    {
      "cell_type": "code",
      "source": [
        "from sklearn.ensemble import AdaBoostClassifier\n",
        "adab = AdaBoostClassifier()\n",
        "adab.fit(X_train, train_labels)\n",
        "adab.score(X_train, train_labels)"
      ],
      "metadata": {
        "colab": {
          "base_uri": "https://localhost:8080/"
        },
        "id": "9Ei3uTxVFxdk",
        "outputId": "9cbc6137-c776-4f22-8493-9be4c90d9461"
      },
      "execution_count": 38,
      "outputs": [
        {
          "output_type": "execute_result",
          "data": {
            "text/plain": [
              "1.0"
            ]
          },
          "metadata": {},
          "execution_count": 38
        }
      ]
    },
    {
      "cell_type": "code",
      "source": [
        "# Predicting the Test set results\n",
        "y_pred = classifier.predict(X_test)\n",
        "\n",
        "# Making the Confusion Matrix\n",
        "from sklearn.metrics import confusion_matrix\n",
        "cm = confusion_matrix(test_labels, y_pred)\n",
        "print(cm)\n",
        "y2 = classifier.predict(X_test)\n",
        "from sklearn.metrics import accuracy_score\n",
        "print(\"Accuracy on unknown data is\",accuracy_score(test_labels,y2))"
      ],
      "metadata": {
        "colab": {
          "base_uri": "https://localhost:8080/"
        },
        "id": "JmMwKmxFt6l8",
        "outputId": "ff59ed4a-f1b0-41ce-d4f4-d0d15b614e12"
      },
      "execution_count": 39,
      "outputs": [
        {
          "output_type": "stream",
          "name": "stdout",
          "text": [
            "[[31  0]\n",
            " [ 0 62]]\n",
            "Accuracy on unknown data is 1.0\n"
          ]
        }
      ]
    },
    {
      "cell_type": "code",
      "source": [
        "import pickle\n",
        "with open('/content/drive/MyDrive/OralCancer/Models/adab_pkl', 'wb') as files:\n",
        "    pickle.dump(adab, files)"
      ],
      "metadata": {
        "id": "8L88WZlvBPRv"
      },
      "execution_count": 41,
      "outputs": []
    },
    {
      "cell_type": "code",
      "source": [
        ""
      ],
      "metadata": {
        "id": "TsBPkaf_Ae4j"
      },
      "execution_count": null,
      "outputs": []
    }
  ],
  "metadata": {
    "accelerator": "GPU",
    "colab": {
      "collapsed_sections": [],
      "name": "ML_models",
      "provenance": []
    },
    "kernelspec": {
      "display_name": "Python 3 (ipykernel)",
      "language": "python",
      "name": "python3"
    },
    "language_info": {
      "codemirror_mode": {
        "name": "ipython",
        "version": 3
      },
      "file_extension": ".py",
      "mimetype": "text/x-python",
      "name": "python",
      "nbconvert_exporter": "python",
      "pygments_lexer": "ipython3",
      "version": "3.8.0"
    }
  },
  "nbformat": 4,
  "nbformat_minor": 0
}